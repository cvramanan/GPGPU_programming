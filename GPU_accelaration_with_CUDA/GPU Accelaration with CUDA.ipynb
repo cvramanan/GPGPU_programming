{
 "cells": [
  {
   "cell_type": "markdown",
   "metadata": {},
   "source": [
    "# GPU Accelaration with CUDA\n",
    "We have explored the purpose of gpu for accelarating an algorithm in the last blog, In this blog we are going to accelarate the mandelbrot set function from the last blog using gpu. If you haven't read the last blog [here](https://medium.com/infye/introduction-to-general-purpose-gpu-programming-1f5411837d86) is the link for that. In this blog we are going to explore the implementation of mandelbrot set with gpu accelaration. \n",
    "\n",
    "### Requirements :\n",
    "#### Hardware requirements:\n",
    "* Any GPU higher than 1050 Ti(gpu released after 1050Ti should work, code in this blog is tested with 1050 and 1650)\n",
    "\n",
    "#### Software requirements:\n",
    "* Any linux os(Tested in ubuntu 20.04 LTS)\n",
    "* python3\n",
    "* Pycuda\n",
    "* matplotlib\n",
    "* numpy\n",
    "\n",
    "you can install the above packages with python pip. Pycuda requires cuda drivers to be installed, you can refer the instructions in this [page](https://documen.tician.de/pycuda/) for cuda driver installation. Before getting into gpu programming we'll first detect the type of the cpu and gpu we are using. [Here] is the colab link for this blog"
   ]
  },
  {
   "cell_type": "code",
   "execution_count": 2,
   "metadata": {},
   "outputs": [
    {
     "name": "stdout",
     "output_type": "stream",
     "text": [
      "Architecture:                    x86_64\r\n",
      "CPU op-mode(s):                  32-bit, 64-bit\r\n",
      "Byte Order:                      Little Endian\r\n",
      "Address sizes:                   43 bits physical, 48 bits virtual\r\n",
      "CPU(s):                          8\r\n",
      "On-line CPU(s) list:             0-7\r\n",
      "Thread(s) per core:              2\r\n",
      "Core(s) per socket:              4\r\n",
      "Socket(s):                       1\r\n",
      "NUMA node(s):                    1\r\n",
      "Vendor ID:                       AuthenticAMD\r\n",
      "CPU family:                      23\r\n",
      "Model:                           24\r\n",
      "Model name:                      AMD Ryzen 5 3550H with Radeon Vega Mobile Gfx\r\n",
      "Stepping:                        1\r\n",
      "Frequency boost:                 enabled\r\n",
      "CPU MHz:                         1361.948\r\n",
      "CPU max MHz:                     2100.0000\r\n",
      "CPU min MHz:                     1400.0000\r\n",
      "BogoMIPS:                        4192.45\r\n",
      "Virtualization:                  AMD-V\r\n",
      "L1d cache:                       128 KiB\r\n",
      "L1i cache:                       256 KiB\r\n",
      "L2 cache:                        2 MiB\r\n",
      "L3 cache:                        4 MiB\r\n",
      "NUMA node0 CPU(s):               0-7\r\n",
      "Vulnerability Itlb multihit:     Not affected\r\n",
      "Vulnerability L1tf:              Not affected\r\n",
      "Vulnerability Mds:               Not affected\r\n",
      "Vulnerability Meltdown:          Not affected\r\n",
      "Vulnerability Spec store bypass: Mitigation; Speculative Store Bypass disabled v\r\n",
      "                                 ia prctl and seccomp\r\n",
      "Vulnerability Spectre v1:        Mitigation; usercopy/swapgs barriers and __user\r\n",
      "                                  pointer sanitization\r\n",
      "Vulnerability Spectre v2:        Mitigation; Full AMD retpoline, IBPB conditiona\r\n",
      "                                 l, STIBP disabled, RSB filling\r\n",
      "Vulnerability Srbds:             Not affected\r\n",
      "Vulnerability Tsx async abort:   Not affected\r\n",
      "Flags:                           fpu vme de pse tsc msr pae mce cx8 apic sep mtr\r\n",
      "                                 r pge mca cmov pat pse36 clflush mmx fxsr sse s\r\n",
      "                                 se2 ht syscall nx mmxext fxsr_opt pdpe1gb rdtsc\r\n",
      "                                 p lm constant_tsc rep_good nopl nonstop_tsc cpu\r\n",
      "                                 id extd_apicid aperfmperf pni pclmulqdq monitor\r\n",
      "                                  ssse3 fma cx16 sse4_1 sse4_2 movbe popcnt aes \r\n",
      "                                 xsave avx f16c rdrand lahf_lm cmp_legacy svm ex\r\n",
      "                                 tapic cr8_legacy abm sse4a misalignsse 3dnowpre\r\n",
      "                                 fetch osvw skinit wdt tce topoext perfctr_core \r\n",
      "                                 perfctr_nb bpext perfctr_llc mwaitx cpb hw_psta\r\n",
      "                                 te sme ssbd sev ibpb vmmcall fsgsbase bmi1 avx2\r\n",
      "                                  smep bmi2 rdseed adx smap clflushopt sha_ni xs\r\n",
      "                                 aveopt xsavec xgetbv1 xsaves clzero irperf xsav\r\n",
      "                                 eerptr arat npt lbrv svm_lock nrip_save tsc_sca\r\n",
      "                                 le vmcb_clean flushbyasid decodeassists pausefi\r\n",
      "                                 lter pfthreshold avic v_vmsave_vmload vgif over\r\n",
      "                                 flow_recov succor smca\r\n"
     ]
    }
   ],
   "source": [
    "!lscpu "
   ]
  },
  {
   "cell_type": "markdown",
   "metadata": {},
   "source": [
    "The above command shows the type of cpu we are using. I have an AMD Ryzen5 3550H processor which is a 64bit computer. We can see the maximum and minimum clock speed of the cpu and cpu count or number of cores which is 8. The above command shows the general specifications of a cpu now we can see the gpu attached with our cpu."
   ]
  },
  {
   "cell_type": "code",
   "execution_count": 3,
   "metadata": {},
   "outputs": [
    {
     "name": "stdout",
     "output_type": "stream",
     "text": [
      "01:00.0 VGA compatible controller: NVIDIA Corporation TU117M [GeForce GTX 1650 Mobile / Max-Q] (rev a1)\r\n",
      "01:00.1 Audio device: NVIDIA Corporation Device 10fa (rev a1)\r\n"
     ]
    }
   ],
   "source": [
    "!lspci | grep -e \"NVIDIA\""
   ]
  },
  {
   "cell_type": "markdown",
   "metadata": {},
   "source": [
    "In the above command we have listed the PCI bus in the computer and used grep command to search the nvidia gpu. Why we have listed the pci bus? , because the gpu in our computer is connected with our computer through PCI bus, you can learn more about PCI bus in this [link](https://www.ovh.com/blog/how-pci-express-works-and-why-you-should-care-gpu/). Now we can see the gpu model which is GTX 1650 which is connected with the computer. Now we can install pycuda.\n"
   ]
  },
  {
   "cell_type": "code",
   "execution_count": 4,
   "metadata": {},
   "outputs": [
    {
     "name": "stdout",
     "output_type": "stream",
     "text": [
      "Requirement already satisfied: pycuda in /home/cvr/playground/cuda-gpu/Hands-On-GPU-Programming-with-Python-and-CUDA/env/lib/python3.7/site-packages (2020.1)\n",
      "Requirement already satisfied: pytools>=2011.2 in /home/cvr/playground/cuda-gpu/Hands-On-GPU-Programming-with-Python-and-CUDA/env/lib/python3.7/site-packages (from pycuda) (2020.4.3)\n",
      "Requirement already satisfied: decorator>=3.2.0 in /home/cvr/playground/cuda-gpu/Hands-On-GPU-Programming-with-Python-and-CUDA/env/lib/python3.7/site-packages (from pycuda) (4.4.2)\n",
      "Requirement already satisfied: appdirs>=1.4.0 in /home/cvr/playground/cuda-gpu/Hands-On-GPU-Programming-with-Python-and-CUDA/env/lib/python3.7/site-packages (from pycuda) (1.4.4)\n",
      "Requirement already satisfied: mako in /home/cvr/playground/cuda-gpu/Hands-On-GPU-Programming-with-Python-and-CUDA/env/lib/python3.7/site-packages (from pycuda) (1.1.3)\n",
      "Requirement already satisfied: six>=1.8.0 in /home/cvr/playground/cuda-gpu/Hands-On-GPU-Programming-with-Python-and-CUDA/env/lib/python3.7/site-packages (from pytools>=2011.2->pycuda) (1.15.0)\n",
      "Requirement already satisfied: numpy>=1.6.0 in /home/cvr/playground/cuda-gpu/Hands-On-GPU-Programming-with-Python-and-CUDA/env/lib/python3.7/site-packages (from pytools>=2011.2->pycuda) (1.19.3)\n",
      "Requirement already satisfied: MarkupSafe>=0.9.2 in /home/cvr/playground/cuda-gpu/Hands-On-GPU-Programming-with-Python-and-CUDA/env/lib/python3.7/site-packages (from mako->pycuda) (1.1.1)\n",
      "\u001b[33mWARNING: You are using pip version 20.1.1; however, version 20.2.4 is available.\n",
      "You should consider upgrading via the '/home/cvr/playground/cuda-gpu/Hands-On-GPU-Programming-with-Python-and-CUDA/env/bin/python3.7 -m pip install --upgrade pip' command.\u001b[0m\n"
     ]
    }
   ],
   "source": [
    "!pip3 install pycuda"
   ]
  },
  {
   "cell_type": "markdown",
   "metadata": {},
   "source": [
    "After installing pycuda we can test the installation."
   ]
  },
  {
   "cell_type": "code",
   "execution_count": 5,
   "metadata": {},
   "outputs": [
    {
     "name": "stdout",
     "output_type": "stream",
     "text": [
      "No of GPUs attached : 1\n",
      "GPU name : GeForce GTX 1650\n",
      "GPU memory :  3911.875\n",
      "ASYNC_ENGINE_COUNT 3\n",
      "CAN_MAP_HOST_MEMORY 1\n",
      "CLOCK_RATE 1560000\n",
      "COMPUTE_CAPABILITY_MAJOR 7\n",
      "COMPUTE_CAPABILITY_MINOR 5\n",
      "COMPUTE_MODE DEFAULT\n",
      "CONCURRENT_KERNELS 1\n",
      "ECC_ENABLED 0\n",
      "GLOBAL_L1_CACHE_SUPPORTED 1\n",
      "GLOBAL_MEMORY_BUS_WIDTH 128\n",
      "GPU_OVERLAP 1\n",
      "INTEGRATED 0\n",
      "KERNEL_EXEC_TIMEOUT 1\n",
      "L2_CACHE_SIZE 1048576\n",
      "LOCAL_L1_CACHE_SUPPORTED 1\n",
      "MANAGED_MEMORY 1\n",
      "MAXIMUM_SURFACE1D_LAYERED_LAYERS 2048\n",
      "MAXIMUM_SURFACE1D_LAYERED_WIDTH 32768\n",
      "MAXIMUM_SURFACE1D_WIDTH 32768\n",
      "MAXIMUM_SURFACE2D_HEIGHT 65536\n",
      "MAXIMUM_SURFACE2D_LAYERED_HEIGHT 32768\n",
      "MAXIMUM_SURFACE2D_LAYERED_LAYERS 2048\n",
      "MAXIMUM_SURFACE2D_LAYERED_WIDTH 32768\n",
      "MAXIMUM_SURFACE2D_WIDTH 131072\n",
      "MAXIMUM_SURFACE3D_DEPTH 16384\n",
      "MAXIMUM_SURFACE3D_HEIGHT 16384\n",
      "MAXIMUM_SURFACE3D_WIDTH 16384\n",
      "MAXIMUM_SURFACECUBEMAP_LAYERED_LAYERS 2046\n",
      "MAXIMUM_SURFACECUBEMAP_LAYERED_WIDTH 32768\n",
      "MAXIMUM_SURFACECUBEMAP_WIDTH 32768\n",
      "MAXIMUM_TEXTURE1D_LAYERED_LAYERS 2048\n",
      "MAXIMUM_TEXTURE1D_LAYERED_WIDTH 32768\n",
      "MAXIMUM_TEXTURE1D_LINEAR_WIDTH 268435456\n",
      "MAXIMUM_TEXTURE1D_MIPMAPPED_WIDTH 32768\n",
      "MAXIMUM_TEXTURE1D_WIDTH 131072\n",
      "MAXIMUM_TEXTURE2D_ARRAY_HEIGHT 32768\n",
      "MAXIMUM_TEXTURE2D_ARRAY_NUMSLICES 2048\n",
      "MAXIMUM_TEXTURE2D_ARRAY_WIDTH 32768\n",
      "MAXIMUM_TEXTURE2D_GATHER_HEIGHT 32768\n",
      "MAXIMUM_TEXTURE2D_GATHER_WIDTH 32768\n",
      "MAXIMUM_TEXTURE2D_HEIGHT 65536\n",
      "MAXIMUM_TEXTURE2D_LINEAR_HEIGHT 65000\n",
      "MAXIMUM_TEXTURE2D_LINEAR_PITCH 2097120\n",
      "MAXIMUM_TEXTURE2D_LINEAR_WIDTH 131072\n",
      "MAXIMUM_TEXTURE2D_MIPMAPPED_HEIGHT 32768\n",
      "MAXIMUM_TEXTURE2D_MIPMAPPED_WIDTH 32768\n",
      "MAXIMUM_TEXTURE2D_WIDTH 131072\n",
      "MAXIMUM_TEXTURE3D_DEPTH 16384\n",
      "MAXIMUM_TEXTURE3D_DEPTH_ALTERNATE 32768\n",
      "MAXIMUM_TEXTURE3D_HEIGHT 16384\n",
      "MAXIMUM_TEXTURE3D_HEIGHT_ALTERNATE 8192\n",
      "MAXIMUM_TEXTURE3D_WIDTH 16384\n",
      "MAXIMUM_TEXTURE3D_WIDTH_ALTERNATE 8192\n",
      "MAXIMUM_TEXTURECUBEMAP_LAYERED_LAYERS 2046\n",
      "MAXIMUM_TEXTURECUBEMAP_LAYERED_WIDTH 32768\n",
      "MAXIMUM_TEXTURECUBEMAP_WIDTH 32768\n",
      "MAX_BLOCK_DIM_X 1024\n",
      "MAX_BLOCK_DIM_Y 1024\n",
      "MAX_BLOCK_DIM_Z 64\n",
      "MAX_GRID_DIM_X 2147483647\n",
      "MAX_GRID_DIM_Y 65535\n",
      "MAX_GRID_DIM_Z 65535\n",
      "MAX_PITCH 2147483647\n",
      "MAX_REGISTERS_PER_BLOCK 65536\n",
      "MAX_REGISTERS_PER_MULTIPROCESSOR 65536\n",
      "MAX_SHARED_MEMORY_PER_BLOCK 49152\n",
      "MAX_SHARED_MEMORY_PER_MULTIPROCESSOR 65536\n",
      "MAX_THREADS_PER_BLOCK 1024\n",
      "MAX_THREADS_PER_MULTIPROCESSOR 1024\n",
      "MEMORY_CLOCK_RATE 4001000\n",
      "MULTIPROCESSOR_COUNT 16\n",
      "MULTI_GPU_BOARD 0\n",
      "MULTI_GPU_BOARD_GROUP_ID 0\n",
      "PCI_BUS_ID 1\n",
      "PCI_DEVICE_ID 0\n",
      "PCI_DOMAIN_ID 0\n",
      "STREAM_PRIORITIES_SUPPORTED 1\n",
      "SURFACE_ALIGNMENT 512\n",
      "TCC_DRIVER 0\n",
      "TEXTURE_ALIGNMENT 512\n",
      "TEXTURE_PITCH_ALIGNMENT 32\n",
      "TOTAL_CONSTANT_MEMORY 65536\n",
      "UNIFIED_ADDRESSING 1\n",
      "WARP_SIZE 32\n"
     ]
    }
   ],
   "source": [
    "import pycuda.driver as drv # 1\n",
    "drv.init() # 2\n",
    "print(\"No of GPUs attached :\",drv.Device.count()) #3\n",
    "gpu = drv.Device(0) # 4\n",
    "print(\"GPU name :\",gpu.name()) # 5\n",
    "print(\"GPU memory : \",gpu.total_memory()/1024**2) # 6\n",
    "gpu_attributes = gpu.get_attributes().items() # 6\n",
    "for k,v in gpu_attributes:\n",
    "    print(k,v)\n"
   ]
  },
  {
   "cell_type": "markdown",
   "metadata": {},
   "source": [
    "There is a lot of information lying in the above command, I'll try to decode the important ones. First we'll import the pycuda and initialise the package.Then we'll print number of gpu's attached with the computer which is one in this case, then we have printed the name of the gpu and gpu memory in MB. Here we refer primary gpu memory or gpu RAM as memory. Then we have printed the attributes of gpu which includes the details such as gpu clock speed , multiprocessor count , compute capability , memory clock rate etc. Another important attribute is no of cores in the gpu. A GPU divides its individual cores up into larger units known as Streaming Multiprocessors (SMs). In our case GTX 1650 gpu has 16 SM and 1024 cores. We calculate the number of cores with something called as compute capablilty of the gpu, you can explore more on compute capability [here](https://docs.nvidia.com/cuda/cuda-c-programming-guide/index.html#compute-capability) . We'll revisit mandelbrot set now."
   ]
  },
  {
   "cell_type": "code",
   "execution_count": 6,
   "metadata": {},
   "outputs": [],
   "source": [
    "from time import time # 1\n",
    "from matplotlib import pyplot as plt # 2\n",
    "import numpy as np # 3 \n",
    "import pycuda.autoinit\n",
    "from pycuda import gpuarray # 4\n",
    "from pycuda.elementwise import ElementwiseKernel # 5\n"
   ]
  },
  {
   "cell_type": "markdown",
   "metadata": {},
   "source": [
    "* we have imported the time module in python to calculate the run time of the algorithm.\n",
    "* In second line we have imported the matplotlib for ploting the graph.\n",
    "* We have imported the numpy in third line.\n",
    "* We have imported the gpuarray in line four which is similar to numpy array object with gpu accelaration capability.\n",
    "* In fifth line we have imported Elementwisekernel of pycuda. In cuda we refer a parallel function as kernel and the elementwisekernel is used for inplace array operations or individual value manipulation in an array. There are many kerrnel function in cuda which we'll explore in upcoming blogs. "
   ]
  },
  {
   "cell_type": "code",
   "execution_count": 7,
   "metadata": {},
   "outputs": [],
   "source": [
    "mandel_ker = ElementwiseKernel(\n",
    "\"pycuda::complex<float> *lattice, float *mandelbrot_graph, int max_iters, float upper_bound\",\n",
    "\"\"\"\n",
    "mandelbrot_graph[i] = 1;\n",
    "\n",
    "pycuda::complex<float> c = lattice[i]; \n",
    "pycuda::complex<float> z(0,0);\n",
    "\n",
    "for (int j = 0; j < max_iters; j++)\n",
    "    {\n",
    "    \n",
    "     z = z*z + c;\n",
    "     \n",
    "     if(abs(z) > upper_bound)\n",
    "         {\n",
    "          mandelbrot_graph[i] = 0;\n",
    "          break;\n",
    "         }\n",
    "\n",
    "    }\n",
    "         \n",
    "\"\"\",\n",
    "\"mandel_ker\")"
   ]
  },
  {
   "cell_type": "markdown",
   "metadata": {},
   "source": [
    "We have initialised the elementwisekernel above.\n",
    "* We have difined the input and output of the kernel which is lattice and mandelbrot_graph.\n",
    "* Then we have max_iters for number of iteration in mandelbrot set and upper_bound parameter.\n",
    "* The ElementwiseKernel object has two parametes one is cuda function and another one is name of the kernel which is mandel_ker.\n",
    "* We can see that the pycuda function declaration is done in first line with single quotation and definition in done with triple quotation. In cuda we can write multilined statements with triple quotation."
   ]
  },
  {
   "cell_type": "code",
   "execution_count": 8,
   "metadata": {},
   "outputs": [],
   "source": [
    "def gpu_mandelbrot(width, height, real_low, real_high, imag_low, imag_high, max_iters, upper_bound):\n",
    "\n",
    "    # we set up our complex lattice as such\n",
    "    real_vals = np.matrix(np.linspace(real_low, real_high, width), dtype=np.complex64) # 1\n",
    "    imag_vals = np.matrix(np.linspace( imag_high, imag_low, height), dtype=np.complex64) * 1j\n",
    "    mandelbrot_lattice = np.array(real_vals + imag_vals.transpose(), dtype=np.complex64) # 2 \n",
    "    \n",
    "    # copy complex lattice to the GPU\n",
    "    mandelbrot_lattice_gpu = gpuarray.to_gpu(mandelbrot_lattice) # 3\n",
    "\n",
    "    # allocate an empty array on the GPU\n",
    "    mandelbrot_graph_gpu = gpuarray.empty(shape=mandelbrot_lattice.shape, dtype=np.float32) # 4\n",
    "\n",
    "    mandel_ker( mandelbrot_lattice_gpu, mandelbrot_graph_gpu, np.int32(max_iters), np.float32(upper_bound)) # 5\n",
    "              \n",
    "    mandelbrot_graph = mandelbrot_graph_gpu.get() # 6\n",
    "    \n",
    "    return mandelbrot_graph "
   ]
  },
  {
   "cell_type": "markdown",
   "metadata": {},
   "source": [
    "We have defined the method which would calculate mandelbrot set by calling cuda kernel\n",
    "* We have created an lattice/matrix of  complex numbers in (1)\n",
    "* Then we have converted the lattice to a numpy array in (2)\n",
    "* In (3) we have copied the data from host(computer) memory to device(gpu) memory.\n",
    "* In (4) we have created an empty gpu array to store the returned array from ElementwiseKernel.\n",
    "* In (5) we have called mandel_ker with mandelbrot_lattice_gpu , mandelbrot_graph_gpu , max_iters and upper_bound.\n",
    "    we can see max_iters and upper_bound is type casted before passing to ElementwiseKernel , This is because we write gpu kernels in c programming language which is a statically-typed language so we should initialise the varibles with type. So we have strictly followed C lang prnciples and type casted the values before passing to function. Inside the kernel we have lattice and mandelbrot_graph as pointers , max_iters and upper_bound as normal variables , this is because we can only pass array as pointers to kernel and we can pass normal variable as just values or pointers. Inside the kernel function we have declare the lattice as complex datatype which is equivalent to numpy.complex64 type and we have initialised the output as one. We can see the \"i\" in initilisation of mandelbrot_graph which is not defined (mandelbrot_graph[i] = 1), this is because as we said earlier iteration of \"i\"  variable is automatically taken care by cuda( cuda will parallise the variable \"i\" automatically) so that we can initialise \"i\". Then we have declared an variable z of same type complex and then we have computed the mandelbrot set and stored the value in mandelbrot_graph( output variable). We can see that we have assigned **'c'** as **'lattice[i]'** , as we have seen before that the variable **\"i\"** will be automatically parallised so we have only used one for loop compared to the mandelbrot set which we saw in previous blog. In this example we have passed the input **'lattice'** as array so we have used only one for loop.\n",
    "\n",
    "\n",
    "* After computing the mandelbrot set we moved back the data from gpu memory to cpu memory with .get() method in (6).\n"
   ]
  },
  {
   "cell_type": "code",
   "execution_count": 9,
   "metadata": {},
   "outputs": [
    {
     "name": "stdout",
     "output_type": "stream",
     "text": [
      "It took 0.2567741870880127 seconds to calculate the Mandelbrot graph.\n",
      "It took 0.023880720138549805 seconds to dump the image.\n"
     ]
    },
    {
     "data": {
      "image/png": "[encoded data removed]",
      "text/plain": [
       "<Figure size 432x288 with 1 Axes>"
      ]
     },
     "metadata": {
      "needs_background": "light"
     },
     "output_type": "display_data"
    }
   ],
   "source": [
    "t1 = time()\n",
    "mandel = gpu_mandelbrot(512,512,-2,2,-2,2,512, 2)\n",
    "t2 = time()\n",
    "\n",
    "mandel_time = t2 - t1\n",
    "\n",
    "t1 = time()\n",
    "fig = plt.figure(1)\n",
    "plt.imshow(mandel, extent=(-2, 2, -2, 2))\n",
    "#plt.savefig('mandelbrot.png', dpi=fig.dpi)\n",
    "t2 = time()\n",
    "\n",
    "dump_time = t2 - t1\n",
    "\n",
    "print ('It took {} seconds to calculate the Mandelbrot graph.'.format(mandel_time))\n",
    "print ('It took {} seconds to dump the image.'.format(dump_time))"
   ]
  },
  {
   "cell_type": "markdown",
   "metadata": {},
   "source": [
    "In this script we have calcualted the time taken for Mandelbrot set calculation and graph generation.\n",
    "It took 0.2 second for Mandelbrot set calculations and 0.03 second for graph generation , which is very fast compared to cpu computation which is 14 second( which we calcualted in the previous blog). "
   ]
  }
 ],
 "metadata": {
  "kernelspec": {
   "display_name": "env",
   "language": "python",
   "name": "env"
  },
  "language_info": {
   "codemirror_mode": {
    "name": "ipython",
    "version": 3
   },
   "file_extension": ".py",
   "mimetype": "text/x-python",
   "name": "python",
   "nbconvert_exporter": "python",
   "pygments_lexer": "ipython3",
   "version": "3.7.9"
  }
 },
 "nbformat": 4,
 "nbformat_minor": 4
}
